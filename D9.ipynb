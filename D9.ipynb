{
  "nbformat": 4,
  "nbformat_minor": 0,
  "metadata": {
    "colab": {
      "provenance": [],
      "authorship_tag": "ABX9TyPxYQ+czrtWaAFKs5eITPYc",
      "include_colab_link": true
    },
    "kernelspec": {
      "name": "python3",
      "display_name": "Python 3"
    },
    "language_info": {
      "name": "python"
    }
  },
  "cells": [
    {
      "cell_type": "markdown",
      "metadata": {
        "id": "view-in-github",
        "colab_type": "text"
      },
      "source": [
        "<a href=\"https://colab.research.google.com/github/NoorHadiya/.ipynbnotes/blob/main/D9.ipynb\" target=\"_parent\"><img src=\"https://colab.research.google.com/assets/colab-badge.svg\" alt=\"Open In Colab\"/></a>"
      ]
    },
    {
      "cell_type": "code",
      "execution_count": null,
      "metadata": {
        "id": "tb6bvGbi8pNL"
      },
      "outputs": [],
      "source": [
        "#IMAGE PROCESSING PERFORMED IN PYTHON IDLE"
      ]
    },
    {
      "cell_type": "code",
      "source": [
        "#1. READING AN IMAGE\n",
        "\n",
        "import cv2 #library i.e., the opencv / computer vision lib\n",
        "img = cv2.imread('abc.jpg') #we are reading the image\n",
        "cv2.imshow('OUTPUT 1', img) #we are displaying the image\n",
        "\n",
        "cv2.waitKey(3000) #3000 is 3000miliseconds, 0 will make sure that the image stays forever\n",
        "cv2.destroyAllWindows()\n"
      ],
      "metadata": {
        "id": "k09J49mq84K0"
      },
      "execution_count": null,
      "outputs": []
    },
    {
      "cell_type": "code",
      "source": [
        "#2. CREATING A DUPLICATE IMAGE USING PYTHON\n",
        "\n",
        "import cv2\n",
        "img = cv2.imread('abc.jpg') #reading the image and saving the image in img\n",
        "cv2.imshow('OUTPUT 1', img) #displaying the image\n",
        "\n",
        "cv2.imwrite('noor.png', img) #creates a new image\n",
        "\n",
        "cv2.waitKey(0)\n",
        "cv2.deatroyAllWindows()\n"
      ],
      "metadata": {
        "id": "6EnsIClIBmBH"
      },
      "execution_count": null,
      "outputs": []
    },
    {
      "cell_type": "code",
      "source": [
        "#3.READ THE INFORMATION ABOUT THE IMAGE\n",
        "\n",
        "import cv2\n",
        "img = cv2.imread('abc.jpg')\n",
        "print(img.shape)\n",
        "\n",
        "\n",
        "#OUTPUT: (344, 612, 3)\n",
        "#344 is the height of the image\n",
        "#612 is the width of the image#3 is the depth/channel number or channel value - 3 by default which represents 3 primary colors"
      ],
      "metadata": {
        "id": "Rv1EdwhHCAXf"
      },
      "execution_count": null,
      "outputs": []
    },
    {
      "cell_type": "code",
      "source": [
        "#4. GRAY SCALE IMAGE I.E., BLACK AND WHITE IMAGE\n",
        "\n",
        "import cv2\n",
        "img = cv2.imread('abc.jpg') #img reading\n",
        "gray = cv2.cvtColor(img,cv2.COLOR_BGR2GRAY) #conversion to grayscale\n",
        "cv2.imshow('NORMAL IMAGE', img) #displays original img\n",
        "cv2.imshow(\"GRAY SCALE IMAGE\", gray)\n",
        "\n",
        "cv2.waitKey(0)\n",
        "cv2.destoryAllWindows()"
      ],
      "metadata": {
        "id": "IqzoKhTjD6T2"
      },
      "execution_count": null,
      "outputs": []
    },
    {
      "cell_type": "code",
      "source": [
        "#4.GRAYSCALE SHORT PROGRAM\n",
        "\n",
        "import cv2\n",
        "img = cv2.imread('abc.jpg',0) #0 here converts the image into grayscale\n",
        "cv2.imshow('GRAYSCALE IMAGE', img)\n",
        "\n",
        "cv2.waitKey(0)\n",
        "cv2.destoryAllWindows()"
      ],
      "metadata": {
        "id": "e_1h_YKhdydE"
      },
      "execution_count": null,
      "outputs": []
    },
    {
      "cell_type": "code",
      "source": [
        "#5.BINARY IMAGE CONVERSION (HIGH CONTRAST IMAGE)\n",
        "\n",
        "import cv2\n",
        "img = cv2.imread('abc.jpg', 0) #grayscale image\n",
        "cv2.imshow('GRAY SCAALE IMAGE', img) #displaying grayscale image\n",
        "cv2.waitKey(2000)\n",
        "\n",
        "#-------cv2.threshold(src,thresh,maxvalue,cinversion type)\n",
        "ret,binary = cv2.threshold(img,127,255,cv2.THRESH_BINARY)#converts image from grayscale to binary\n",
        "#here ret is a dummy variable. so here ret and binary are 2 variables to be taken.\n",
        "\n",
        "cv2.imshow('BINARY IMAGE', binary)\n",
        "cv2.waitKey(0)\n",
        "cv2.destoryAllWindows()"
      ],
      "metadata": {
        "id": "PtLIDy7ad0hb"
      },
      "execution_count": null,
      "outputs": []
    },
    {
      "cell_type": "code",
      "source": [
        "#6.SOLID BACKGROUND(BLACK OR WHITE BACKGROUND)\n",
        "#WHITE COLOR\n",
        "\n",
        "import cv2\n",
        "import numpy as np\n",
        "\n",
        "img = np.ones((500, 500, 3)) #500 length, 500 is length, 3 is depth/channel value\n",
        "#in the above line we are creating a white background\n",
        "\n",
        "cv2.imshow('WHITE', img)\n",
        "\n",
        "cv2.waitKey(0)\n",
        "cv2.destoryAllWindows()"
      ],
      "metadata": {
        "id": "11K910ALidGs"
      },
      "execution_count": null,
      "outputs": []
    },
    {
      "cell_type": "code",
      "source": [
        "#6.SOLID BACKGROUND(BLACK OR WHITE BACKGROUND)\n",
        "#BLACK COLOR\n",
        "\n",
        "import cv2\n",
        "import numpy as np\n",
        "\n",
        "img = np.zeros((500, 500, 3)) #500 length, 500 is length, 3 is depth/channel value\n",
        "#in the above line we are creating a white background\n",
        "\n",
        "cv2.imshow('BLACK', img)\n",
        "\n",
        "cv2.waitKey(0)\n",
        "cv2.destoryAllWindows()"
      ],
      "metadata": {
        "id": "5dS-ApsQiu72"
      },
      "execution_count": null,
      "outputs": []
    },
    {
      "cell_type": "code",
      "source": [
        "#7.SOLID COLORS (RED, GREEN, BLUE)\n",
        "\n",
        "#RED\n",
        "\n",
        "import cv2\n",
        "import numpy as np\n",
        "img = np.zeros((250,250,3)) #creates a black image\n",
        "\n",
        "img[:] = 0,0,255 #assigning the color(B,G,R)\n",
        "\n",
        "cv2.imshow('RED', img)\n",
        "\n",
        "cv2.waitKey(0)\n",
        "cv2.destoryAllWindows()\n",
        "\n",
        "#7.SOLID COLORS (RED, GREEN, BLUE)\n",
        "\n",
        "#RED\n",
        "\n",
        "import cv2\n",
        "import numpy as np\n",
        "img = np.zeros((250,250,3)) #creates a black image\n",
        "\n",
        "img[:] = 0,255,0 #assigning the color(B,G,R)\n",
        "\n",
        "cv2.imshow('GREEN', img)\n",
        "\n",
        "cv2.waitKey(0)\n",
        "cv2.destoryAllWindows()\n",
        "\n",
        "#7.SOLID COLORS (RED, GREEN, BLUE)\n",
        "\n",
        "#RED\n",
        "\n",
        "import cv2\n",
        "import numpy as np\n",
        "img = np.zeros((250,250,3)) #creates a black image\n",
        "\n",
        "img[:] = 255,0,0 #assigning the color(B,G,R)\n",
        "\n",
        "cv2.imshow('BLUE', img)\n",
        "\n",
        "cv2.waitKey(0)\n",
        "cv2.destoryAllWindows()"
      ],
      "metadata": {
        "id": "19X_K0AgiyxX"
      },
      "execution_count": null,
      "outputs": []
    },
    {
      "cell_type": "code",
      "source": [
        "#8.CHECKER BOARD\n",
        "\n",
        "import cv2\n",
        "import numpy as np\n",
        "img = np.zeros((200,200,3)) #creates a black image\n",
        "\n",
        "img[0:100,0:100] = 255,255,255\n",
        "img[100:200,100:200] = 255,255,255\n",
        "\n",
        "cv2.imshow('CHECKER BOARD', img)\n",
        "\n",
        "cv2.waitKey(0)\n",
        "cv2.destoryAllWindows()"
      ],
      "metadata": {
        "id": "sLYQI24lkmFl"
      },
      "execution_count": null,
      "outputs": []
    }
  ]
}